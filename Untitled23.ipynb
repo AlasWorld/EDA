{
  "nbformat": 4,
  "nbformat_minor": 0,
  "metadata": {
    "colab": {
      "provenance": [],
      "authorship_tag": "ABX9TyOqdmTUByCwy/ioHfdn3Vb1"
    },
    "kernelspec": {
      "name": "python3",
      "display_name": "Python 3"
    },
    "language_info": {
      "name": "python"
    }
  },
  "cells": [
    {
      "cell_type": "code",
      "source": [
        "df.info()\n",
        "import seaborn as sns"
      ],
      "metadata": {
        "id": "SpdfXBjGl6iE"
      },
      "execution_count": null,
      "outputs": []
    },
    {
      "cell_type": "code",
      "execution_count": null,
      "metadata": {
        "id": "Xx5do1MwfOci"
      },
      "outputs": [],
      "source": [
        "\n",
        "import seaborn as sns\n",
        "import matplotlib.pyplot as pltjjjjjjjjjjjjjjjjjjjjjjjjjjjjjjjjjjjjjjjjjjjjjjjjjjjjjjjjjjjjjjjjjjjjjjjjjjjjjjjjjjjjjjjjjjjjjjjjjjjjjjjjjjjjjjjjjjjjjjjjjjjjjjjjjjjjjjjjjjjjjjjjjjjjjjjjjjjjjjjjjjjjjjjjjjj\n",
        "\n",
        "import pandas as pd\n",
        "df=pd.read_csv(\"https://raw.githubusercontent.com/ameenmanna8824/DATASETS/main/Mall_Customers.csv\")\n",
        "df"
      ]
    },
    {
      "cell_type": "code",
      "source": [
        "sns.distplot(df.Age,df.iloc[:,3])\n",
        "print(\"ANNUAL INCOME DISTRIBUTION OVER AGE\")\n",
        "#THE ANNUAL INCOME REACHES ITS PEAK USUALLY AT MID-THIRTIES OR AT MID-FORTIES.\n",
        "# THE MOST OF THE INCOME IS EARNED BY THE PERSONS BELONGING TO THE AGE GROUP OF 25-45 YEARS RANGE.  \n"
      ],
      "metadata": {
        "id": "wZ07-R-Qp7ZO"
      },
      "execution_count": null,
      "outputs": []
    },
    {
      "cell_type": "code",
      "source": [
        "\n",
        "sns.countplot(df.Genre)\n",
        "\n"
      ],
      "metadata": {
        "id": "q7JRie2GfPzV"
      },
      "execution_count": null,
      "outputs": []
    },
    {
      "cell_type": "code",
      "source": [
        "\n",
        "plt.plot(df.CustomerID,df.Age)\n",
        "plt.xlabel(\"CustomerID\")\n",
        "plt.ylabel(\"Age\")\n",
        "plt.title(\"AGE VS CUSTOMER_ID\")\n",
        "df.Age.mean()\n",
        "# THE AGE IS DIVERSIFIED THOROUGHLY OVER THE CUSTOMER ID .THERE IS NO RELATION BETWEEN THEM.\n",
        "# THE AGE GROUP  OF 30-50 YEARS RANGE IS THE DOMINANT AGE GROUP IN OUR DATA ,THEN COMES THE SLAB OF 20-30 YEARS AND FINALLY COMES THE AGE GROUP ABOVE 50 \n",
        "# THE MEAN AGE IS 38.5 YEARS.\n"
      ],
      "metadata": {
        "id": "A804sNXxkOKD"
      },
      "execution_count": null,
      "outputs": []
    },
    {
      "cell_type": "code",
      "source": [
        "sns.scatterplot(df.CustomerID,df.iloc[:,3],hue=df.Genre)\n",
        "#THE ANNUAL INCOME INCREASES WITH THE CUSTOMER ID IN A SORTED FASHION\n",
        "\n",
        "df.Age.mean()"
      ],
      "metadata": {
        "id": "fd83exepyH-Q"
      },
      "execution_count": null,
      "outputs": []
    },
    {
      "cell_type": "code",
      "source": [
        "import matplotlib.pyplot as plt\n",
        "sns.barplot(df.Genre,df.Age)\n",
        "# THE AVERAGE AGE IS STILL HIGHER THAN THE THAT OF FEMALE AND LOWER THAN THAT OF MALE EVEN WHEN MALES ARE BIT OUTNUMBERED BY THE COUNT OF FEMALES.\n",
        "\n"
      ],
      "metadata": {
        "id": "alCD6WHPkbwk"
      },
      "execution_count": null,
      "outputs": []
    },
    {
      "cell_type": "code",
      "source": [
        "sns.barplot(df.Genre,df.iloc[:,3])\n",
        "# EVEN BEING OUTNUMBERED MALES ARE STILL ABLE TO RAISE THE BARS WITH THE RESPECT OF THEIR MEAN ANNUAL INCOME."
      ],
      "metadata": {
        "id": "SnsF5NBHlWfJ"
      },
      "execution_count": null,
      "outputs": []
    },
    {
      "cell_type": "code",
      "source": [
        "sns.barplot(df.Genre,df.iloc[:,4])\n",
        "#FEMALES ARE HAVING THE HIGHER SPENDING SCORE THAN MALES PROBABLY DUE TO AGE FACTOR WHICH IS HIGHER FOR MEN AS THE OTHER CRITERIA OF ANNUAL INCOME IS ALREADY IN FAVOUR OF MALES.\n"
      ],
      "metadata": {
        "id": "GisBkRK5pMyL"
      },
      "execution_count": null,
      "outputs": []
    },
    {
      "cell_type": "code",
      "source": [
        "sns.scatterplot(df.Age,df.iloc[:,3],hue=df.Genre)\n",
        "#THE HIGHEST ANNUAL INCOME OF THE MALES AND FEAMALES ARE  ABOUT 120K AND 140 K AT AGES OF 30 AND 50 YEARS RESPECTIVELY."
      ],
      "metadata": {
        "id": "kCQv1hF_nC7G"
      },
      "execution_count": null,
      "outputs": []
    },
    {
      "cell_type": "code",
      "source": [
        "sns.scatterplot(df.Age,df.iloc[:,4],hue=df.Genre)\n",
        "#THOUGH THE SCATTER PLOT IS QUITE SPORADIC ,HOWEVER THE SPENDING SCORE IS DENSLY CONCENTRATED FOR THE AGE RANGE OF 20 - 40 YEARS WITH ITS HIGH ALTITUDES BUT IT FALLS TO 60-40 WHEN ONE REACHES 50 THAT TOO IS DISTINGUISHBLY DENSE."
      ],
      "metadata": {
        "id": "XU8zclVWoIgr"
      },
      "execution_count": null,
      "outputs": []
    },
    {
      "cell_type": "code",
      "source": [
        "sns.scatterplot(df.iloc[:,4],df.iloc[:,3],hue=df.Genre)\n",
        "# THE ANNUAL INCOME LYING BETWEEN THE 40 -70 K IS CORRESPONDING TO THE SPENDING SCORE OF SIMILIAR RANGE 40-60 THAT TOO IN DENSE MANNER WHEREAS REST OF THE PLOT IS SCATTERED ABSURDLY INDICATING THE DOMINANCE OF THE FACTOR OF ANNUAL INCOME OVER AGE IN THAT PARTICUALAR INCOME SLAB."
      ],
      "metadata": {
        "id": "5gTqNNKnoXl2"
      },
      "execution_count": null,
      "outputs": []
    },
    {
      "cell_type": "code",
      "source": [
        "df.info()"
      ],
      "metadata": {
        "id": "m8DKjxMMYFFj"
      },
      "execution_count": null,
      "outputs": []
    },
    {
      "cell_type": "code",
      "source": [
        "from sklearn.linear_model import LinearRegression\n",
        "mod=LinearRegression()\n",
        "x=df.iloc[:,2:4]\n",
        "y=df.iloc[:,4]\n",
        "\n",
        "\n",
        "ypred=mod.predict(x)\n",
        "ypreds=ypred.reshape(-1,1)\n",
        "print(plt.plot(df.CustomerID,ypreds))\n",
        "print(plt.plot(df.CustomerID,y))\n",
        "\n",
        "#THIS JUSTIFIES HOW THE LINEAR REGRESSION AVERAGES OUT THE WHOLE DATA\n",
        "\n",
        "\n"
      ],
      "metadata": {
        "id": "WueJHr-EUn4t"
      },
      "execution_count": null,
      "outputs": []
    },
    {
      "cell_type": "code",
      "source": [
        "mod.predict([[23,63]])\n"
      ],
      "metadata": {
        "id": "S_SMnF1ppoxQ"
      },
      "execution_count": null,
      "outputs": []
    }
  ]
}